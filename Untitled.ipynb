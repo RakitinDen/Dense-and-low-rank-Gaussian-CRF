{
 "cells": [
  {
   "cell_type": "code",
   "execution_count": 1,
   "metadata": {},
   "outputs": [],
   "source": [
    "import numpy as np\n",
    "import torch\n",
    "import torch.nn as nn\n",
    "import torch.nn.functional as F\n",
    "import tensorboardX\n",
    "import PIL\n",
    "import os\n",
    "import time\n",
    "import h5py\n",
    "import matplotlib.pyplot as plt\n",
    "\n",
    "from torchvision.models.segmentation import deeplabv3_resnet101"
   ]
  },
  {
   "cell_type": "code",
   "execution_count": 2,
   "metadata": {},
   "outputs": [],
   "source": [
    "import train_unary"
   ]
  },
  {
   "cell_type": "code",
   "execution_count": 3,
   "metadata": {},
   "outputs": [],
   "source": [
    "#! wget http://host.robots.ox.ac.uk/pascal/VOC/voc2012/VOCtrainval_11-May-2012.tar\n",
    "#! tar -xvf VOCtrainval_11-May-2012.tar"
   ]
  },
  {
   "cell_type": "code",
   "execution_count": 4,
   "metadata": {},
   "outputs": [],
   "source": [
    "#! wget http://eecs.berkeley.edu/Research/Projects/CS/vision/grouping/semantic_contours/benchmark.tgz\n",
    "#! tar -xzvf benchmark.tgz"
   ]
  },
  {
   "cell_type": "code",
   "execution_count": 5,
   "metadata": {},
   "outputs": [],
   "source": [
    "#! wget home.bharathh.info/pubs/codes/SBD/train_noval.txt"
   ]
  },
  {
   "cell_type": "code",
   "execution_count": 6,
   "metadata": {},
   "outputs": [],
   "source": [
    "device = torch.device(\"cuda\" if torch.cuda.is_available() else \"cpu\")"
   ]
  },
  {
   "cell_type": "code",
   "execution_count": 7,
   "metadata": {},
   "outputs": [],
   "source": [
    "voc_dir = 'VOCdevkit/VOC2012'\n",
    "image_dir = 'JPEGImages'\n",
    "segmentation_dir = 'SegmentationClass'\n",
    "names_dir = 'ImageSets/Segmentation'"
   ]
  },
  {
   "cell_type": "code",
   "execution_count": 8,
   "metadata": {},
   "outputs": [],
   "source": [
    "contour_dir = 'benchmark_RELEASE/dataset/cls'\n",
    "contour_img_dir = 'benchmark_RELEASE/dataset/img'\n",
    "contour_names = 'train_noval.txt'"
   ]
  },
  {
   "cell_type": "code",
   "execution_count": 9,
   "metadata": {},
   "outputs": [],
   "source": [
    "batch_size = 8\n",
    "n_epochs = 25\n",
    "train_voc_dataset = train_unary.PascalVOCDataset(voc_dir, image_dir, segmentation_dir, names_dir, 'train', batch_size=batch_size)\n",
    "train_voc_loader = torch.utils.data.DataLoader(train_voc_dataset, batch_size=batch_size, shuffle=True)\n",
    "\n",
    "val_voc_dataset = train_unary.PascalVOCDataset(voc_dir, image_dir, segmentation_dir, names_dir, 'val', batch_size=batch_size)\n",
    "val_voc_loader = torch.utils.data.DataLoader(val_voc_dataset, batch_size=batch_size, shuffle=True)"
   ]
  },
  {
   "cell_type": "code",
   "execution_count": 10,
   "metadata": {},
   "outputs": [
    {
     "name": "stdout",
     "output_type": "stream",
     "text": [
      "22125\n"
     ]
    }
   ],
   "source": [
    "train_expand_dataset = train_unary.ExpandedVOCDataset(voc_dir, image_dir, \n",
    "                segmentation_dir, names_dir, 'train', contour_dir, contour_img_dir, contour_names, batch_size)\n",
    "train_expand_loader = torch.utils.data.DataLoader(train_expand_dataset, batch_size=batch_size, shuffle=False)\n",
    "\n",
    "n_iter = n_epochs * len(train_expand_dataset) // batch_size\n",
    "print(n_iter)"
   ]
  },
  {
   "cell_type": "code",
   "execution_count": 11,
   "metadata": {},
   "outputs": [],
   "source": [
    "class PolyLrDecay():\n",
    "    def __init__(self, n_iter, power):\n",
    "        self.n_iter = n_iter\n",
    "        self.power = power\n",
    "\n",
    "    def step(self, cur_iter):\n",
    "        return (1 - cur_iter / self.n_iter) ** self.power\n"
   ]
  },
  {
   "cell_type": "code",
   "execution_count": 12,
   "metadata": {},
   "outputs": [],
   "source": [
    "model = deeplabv3_resnet101()\n",
    "model = model.to(device)"
   ]
  },
  {
   "cell_type": "code",
   "execution_count": 13,
   "metadata": {},
   "outputs": [],
   "source": [
    "opt = torch.optim.SGD(model.parameters(), momentum=0.9, lr=0.00025, weight_decay=0.0005)"
   ]
  },
  {
   "cell_type": "code",
   "execution_count": 14,
   "metadata": {},
   "outputs": [],
   "source": [
    "sch = torch.optim.lr_scheduler.LambdaLR(opt, lr_lambda=PolyLrDecay(n_iter, 0.9).step)"
   ]
  },
  {
   "cell_type": "code",
   "execution_count": null,
   "metadata": {},
   "outputs": [],
   "source": [
    "model, iter_n = train_unary.train(train_expand_loader, val_voc_loader, model, opt, sch, 5, 0, 0)"
   ]
  },
  {
   "cell_type": "code",
   "execution_count": null,
   "metadata": {},
   "outputs": [],
   "source": [
    "model = train_unary.train(train_voc_loader, val_voc_loader, model, opt, sch, 20, 6, iter_n)"
   ]
  },
  {
   "cell_type": "code",
   "execution_count": null,
   "metadata": {},
   "outputs": [],
   "source": []
  }
 ],
 "metadata": {
  "kernelspec": {
   "display_name": "Python 3.6 - AzureML",
   "language": "python",
   "name": "python3-azureml"
  },
  "language_info": {
   "codemirror_mode": {
    "name": "ipython",
    "version": 3
   },
   "file_extension": ".py",
   "mimetype": "text/x-python",
   "name": "python",
   "nbconvert_exporter": "python",
   "pygments_lexer": "ipython3",
   "version": "3.6.9"
  }
 },
 "nbformat": 4,
 "nbformat_minor": 2
}
