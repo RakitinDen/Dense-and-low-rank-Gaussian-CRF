{
 "cells": [
  {
   "cell_type": "code",
   "execution_count": 1,
   "metadata": {},
   "outputs": [],
   "source": [
    "import numpy as np\n",
    "import torch\n",
    "import torch.nn as nn\n",
    "import torch.nn.functional as F\n",
    "import tensorboardX\n",
    "import PIL\n",
    "import os\n",
    "import time\n",
    "import h5py\n",
    "import matplotlib.pyplot as plt\n",
    "import itertools\n",
    "\n",
    "from deeplabv3 import deeplabv3_resnet101"
   ]
  },
  {
   "cell_type": "code",
   "execution_count": 2,
   "metadata": {},
   "outputs": [],
   "source": [
    "import train_unary\n",
    "import train_potts"
   ]
  },
  {
   "cell_type": "code",
   "execution_count": 3,
   "metadata": {},
   "outputs": [],
   "source": [
    "device = torch.device(\"cuda\" if torch.cuda.is_available() else \"cpu\")"
   ]
  },
  {
   "cell_type": "code",
   "execution_count": 4,
   "metadata": {},
   "outputs": [],
   "source": [
    "voc_dir = 'VOCdevkit/VOC2012'\n",
    "image_dir = 'JPEGImages'\n",
    "segmentation_dir = 'SegmentationClass'\n",
    "names_dir = 'ImageSets/Segmentation'"
   ]
  },
  {
   "cell_type": "code",
   "execution_count": 5,
   "metadata": {},
   "outputs": [],
   "source": [
    "contour_dir = 'benchmark_RELEASE/dataset/cls'\n",
    "contour_img_dir = 'benchmark_RELEASE/dataset/img'\n",
    "contour_names = 'train_noval.txt'"
   ]
  },
  {
   "cell_type": "code",
   "execution_count": 6,
   "metadata": {},
   "outputs": [],
   "source": [
    "batch_size = 6\n",
    "n_epochs = 10\n",
    "train_voc_dataset = train_unary.PascalVOCDataset(voc_dir, image_dir, segmentation_dir, names_dir, 'train', batch_size=batch_size)\n",
    "train_voc_loader = torch.utils.data.DataLoader(train_voc_dataset, batch_size=batch_size, shuffle=True)\n",
    "\n",
    "val_voc_dataset = train_unary.PascalVOCDataset(voc_dir, image_dir, segmentation_dir, names_dir, 'val', batch_size=batch_size)\n",
    "val_voc_loader = torch.utils.data.DataLoader(val_voc_dataset, batch_size=batch_size, shuffle=True)"
   ]
  },
  {
   "cell_type": "code",
   "execution_count": 7,
   "metadata": {},
   "outputs": [
    {
     "name": "stdout",
     "output_type": "stream",
     "text": [
      "11810\n"
     ]
    }
   ],
   "source": [
    "train_expand_dataset = train_unary.ExpandedVOCDataset(voc_dir, image_dir, \n",
    "                segmentation_dir, names_dir, 'train', contour_dir, contour_img_dir, contour_names, batch_size)\n",
    "train_expand_loader = torch.utils.data.DataLoader(train_expand_dataset, batch_size=batch_size, shuffle=False)\n",
    "\n",
    "n_iter = n_epochs * len(train_expand_dataset) // batch_size\n",
    "print(n_iter)"
   ]
  },
  {
   "cell_type": "code",
   "execution_count": 8,
   "metadata": {},
   "outputs": [],
   "source": [
    "default_dataset = train_unary.DefaultDataset(voc_dir, image_dir, segmentation_dir, names_dir, 'val', batch_size=1)\n",
    "default_loader = torch.utils.data.DataLoader(default_dataset, batch_size=1, shuffle=False)"
   ]
  },
  {
   "cell_type": "code",
   "execution_count": 9,
   "metadata": {},
   "outputs": [],
   "source": [
    "class PolyLrDecay():\n",
    "    def __init__(self, n_iter, power):\n",
    "        self.n_iter = n_iter\n",
    "        self.power = power\n",
    "\n",
    "    def step(self, cur_iter):\n",
    "        return (1 - cur_iter / self.n_iter) ** self.power\n"
   ]
  },
  {
   "cell_type": "code",
   "execution_count": 11,
   "metadata": {},
   "outputs": [],
   "source": [
    "unary = deeplabv3_resnet101()\n",
    "unary.load_state_dict(torch.load('unary_final.pth'))\n",
    "unary = unary.to(device)"
   ]
  },
  {
   "cell_type": "code",
   "execution_count": 12,
   "metadata": {},
   "outputs": [],
   "source": [
    "pairwise = train_potts.load_pairwise('unary_final.pth', 64, last_layer=2)"
   ]
  },
  {
   "cell_type": "code",
   "execution_count": 13,
   "metadata": {},
   "outputs": [],
   "source": [
    "opt = torch.optim.Adam(itertools.chain(unary.classifier.parameters(), pairwise.parameters()), lr=3e-6)"
   ]
  },
  {
   "cell_type": "code",
   "execution_count": 14,
   "metadata": {},
   "outputs": [],
   "source": [
    "sch = torch.optim.lr_scheduler.LambdaLR(opt, lr_lambda=PolyLrDecay(n_iter, 0.9).step)"
   ]
  },
  {
   "cell_type": "code",
   "execution_count": null,
   "metadata": {},
   "outputs": [],
   "source": [
    "unary, pairwise, iter_n = train_potts.train_final(train_expand_loader, default_loader, unary, pairwise,\n",
    "                                                  opt, sch, n_epochs, start_epoch=0, iter_n=0)"
   ]
  }
 ],
 "metadata": {
  "kernelspec": {
   "display_name": "Python 3.6 - AzureML",
   "language": "python",
   "name": "python3-azureml"
  },
  "language_info": {
   "codemirror_mode": {
    "name": "ipython",
    "version": 3
   },
   "file_extension": ".py",
   "mimetype": "text/x-python",
   "name": "python",
   "nbconvert_exporter": "python",
   "pygments_lexer": "ipython3",
   "version": "3.6.9"
  }
 },
 "nbformat": 4,
 "nbformat_minor": 2
}
